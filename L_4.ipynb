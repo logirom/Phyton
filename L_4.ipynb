{
 "cells": [
  {
   "cell_type": "code",
   "execution_count": 1,
   "metadata": {
    "collapsed": true
   },
   "outputs": [
    {
     "name": "stdout",
     "output_type": "stream",
     "text": [
      "30000.0 499.5\n"
     ]
    }
   ],
   "source": [
    "#Случайная непрерывная величина A имеет равномерное распределение на промежутке (200, 800].\n",
    "#Найдите ее среднее значение и дисперсию.\n",
    "import numpy as np\n",
    "d = (800-200)**2/12\n",
    "a = np.array([range(200, 800, 1)])\n",
    "m = np.mean(a)\n",
    "print(d , m)"
   ]
  },
  {
   "cell_type": "code",
   "execution_count": 2,
   "outputs": [
    {
     "ename": "SyntaxError",
     "evalue": "unexpected EOF while parsing (<ipython-input-2-cd9760b4ef52>, line 7)",
     "output_type": "error",
     "traceback": [
      "\u001B[1;36m  File \u001B[1;32m\"<ipython-input-2-cd9760b4ef52>\"\u001B[1;36m, line \u001B[1;32m7\u001B[0m\n\u001B[1;33m    \u001B[0m\n\u001B[1;37m    ^\u001B[0m\n\u001B[1;31mSyntaxError\u001B[0m\u001B[1;31m:\u001B[0m unexpected EOF while parsing\n"
     ]
    }
   ],
   "source": [
    "#О случайной непрерывной равномерно распределенной величине B известно, что ее дисперсия равна 0.2.\n",
    "#Можно ли найти правую границу величины B и ее среднее значение зная, что левая граница равна 0.5?\n",
    "#Если да, найдите ее.\n",
    "b = (0.2*12)**0.5 + 0.5\n",
    "m = (0.5 +b)/2\n",
    "print(round(b, 2), round(m, 2)"
   ],
   "metadata": {
    "collapsed": false,
    "pycharm": {
     "name": "#%%\n"
    }
   }
  },
  {
   "cell_type": "code",
   "execution_count": null,
   "outputs": [],
   "source": [
    "#Непрерывная случайная величина X распределена\n",
    "# нормально и задана плотностью распределения\n",
    "#f(x) = (1 / (4 * sqrt(2*pi))) * (exp(-((x+2)**2) / 32))\n",
    "#Найдите:\n",
    "M(X) = -2\n",
    "D(X) = 16\n",
    "std(X) = 4 (среднее квадратичное отклонение)\n",
    "f(x) = (1 / (4 * sqrt(2*pi))) * (exp(-((x+2)**2) / 32))"
   ],
   "metadata": {
    "collapsed": false,
    "pycharm": {
     "name": "#%%\n"
    }
   }
  },
  {
   "cell_type": "code",
   "execution_count": 66,
   "outputs": [
    {
     "name": "stdout",
     "output_type": "stream",
     "text": [
      "15.9 0.15865525393145707 2.3 0.02275013194817921 84.10000000000001 0.8413447460685429 97.7 nan 0.3 0.31731050786291415\n"
     ]
    }
   ],
   "source": [
    "#Рост взрослого населения города X имеет нормальное распределение.\n",
    "#Причем, средний рост равен 174 см, а среднее квадратичное\n",
    "# отклонение равно 8 см. Какова вероятность того, что случайным\n",
    "# образом выбранный взрослый человек имеет рост:\n",
    "#а). больше 182 см\n",
    "#б). больше 190 см\n",
    "#в). от 166 см до 190 см\n",
    "#г). от 166 см до 182 см\n",
    "#д). от 158 см до 190 см\n",
    "#е). не выше 150 см или не ниже 190 см\n",
    "#ё). не выше 150 см или не ниже 198 см\n",
    "#ж). ниже 166 см.\n",
    "\n",
    "from scipy.stats import norm\n",
    "\n",
    "a = 13.6+2.15+0.15 #more 182 or less 166\n",
    "a_1 = 1-norm.cdf(1)\n",
    "b = 2.15+0.15 #more 190\n",
    "b_1 = 1-norm.cdf(2)\n",
    "c = 34.1+34.1 + a #166-190\n",
    "c_1 = norm.cdf(1)\n",
    "d = 34.1+34.1 + a + 13.6 # 158-190\n",
    "#d_1 = c + norm.cdf() не соображу как тут написать\n",
    "e = 2*0.15 #<150 >198\n",
    "e_1= 2*(1-norm.cdf(1))\n",
    "\n",
    "print(a, a_1, b, b_1, c, c_1, d, d_1, e, e_1)\n"
   ],
   "metadata": {
    "collapsed": false,
    "pycharm": {
     "name": "#%%\n"
    }
   }
  },
  {
   "cell_type": "code",
   "execution_count": 67,
   "outputs": [
    {
     "name": "stdout",
     "output_type": "stream",
     "text": [
      "2.4\n"
     ]
    }
   ],
   "source": [
    "#На сколько сигм (средних квадратичных отклонений)\n",
    "# отклоняется рост человека, равный 190 см, от\n",
    "#математического ожидания роста в популяции, в\n",
    "# которой M(X) = 178 см и D(X) = 25 кв.см?\n",
    "\n",
    "std = 25**0.5\n",
    "x = 190\n",
    "m = 178\n",
    "s = (x-m)/std\n",
    "print(s)"
   ],
   "metadata": {
    "collapsed": false,
    "pycharm": {
     "name": "#%%\n"
    }
   }
  }
 ],
 "metadata": {
  "kernelspec": {
   "display_name": "Python 3",
   "language": "python",
   "name": "python3"
  },
  "language_info": {
   "codemirror_mode": {
    "name": "ipython",
    "version": 2
   },
   "file_extension": ".py",
   "mimetype": "text/x-python",
   "name": "python",
   "nbconvert_exporter": "python",
   "pygments_lexer": "ipython2",
   "version": "2.7.6"
  }
 },
 "nbformat": 4,
 "nbformat_minor": 0
}