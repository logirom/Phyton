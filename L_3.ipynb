{
 "cells": [
  {
   "cell_type": "code",
   "execution_count": 1,
   "metadata": {
    "collapsed": true
   },
   "outputs": [
    {
     "data": {
      "text/plain": "<Figure size 432x288 with 1 Axes>",
      "image/png": "[encoded data removed]"
     },
     "metadata": {
      "needs_background": "light"
     },
     "output_type": "display_data"
    },
    {
     "data": {
      "text/plain": "<Figure size 432x288 with 1 Axes>",
      "image/png": "[encoded data removed]"
     },
     "metadata": {
      "needs_background": "light"
     },
     "output_type": "display_data"
    },
    {
     "name": "stdout",
     "output_type": "stream",
     "text": [
      "65.3 30.824 950.11 1000.116\n"
     ]
    }
   ],
   "source": [
    "#Даны значения зарплат из выборки выпускников: # 100, 80, 75,\n",
    "# 77, 89, 33, 45, 25, 65, 17, 30, 24, 57, 55, 70, 75, 65, 84,\n",
    "# 90, 150. Посчитать (желательно без использования\n",
    "# статистических методов наподобие std, var, mean) среднее\n",
    "# арифметическое, среднее квадратичное отклонение,\n",
    "# смещенную и несмещенную оценки дисперсий для данной выборки.\n",
    "\n",
    "\n",
    "import numpy as np\n",
    "import pandas as pd\n",
    "import matplotlib.pyplot as plt\n",
    "import seaborn as sns\n",
    "import warnings\n",
    "warnings.filterwarnings('ignore')\n",
    "df = pd.read_csv('./salary.csv')\n",
    "#df = df.drop_duplicates()\n",
    "mean_salary = df['salary'].sum() / df['salary'].count()\n",
    "salary_std = np.sqrt(((df['salary'] - df['salary'].mean())**2).sum() / df['salary'].count())\n",
    "salary_variance = ((df['salary'] - df['salary'].mean())**2).sum() / df['salary'].count()\n",
    "salary_variance2 = ((df['salary'] - df['salary'].mean())**2).sum() / (df['salary'].count() - 1)\n",
    "plt.hist(df['salary'], bins = 20)\n",
    "plt.show()\n",
    "sns.boxplot(df['salary'], orient='v')\n",
    "plt.show()\n",
    "print(mean_salary, round(salary_std, 3), salary_variance, round(salary_variance2, 3))"
   ]
  },
  {
   "cell_type": "code",
   "execution_count": 8,
   "outputs": [
    {
     "name": "stdout",
     "output_type": "stream",
     "text": [
      "0.3686868686868687\n"
     ]
    }
   ],
   "source": [
    "#В первом ящике находится 8 мячей, из которых 5 - белые.\n",
    "# Во втором ящике - 12 мячей, из которых 5 белых. Из первого\n",
    "# ящика вытаскивают случайным образом два мяча, из второго - 4.\n",
    "# Какова вероятность того, что 3 мяча белые?\n",
    "\n",
    "from math import factorial\n",
    "def combination(n, k):\n",
    "    return int(factorial(n)/(factorial(k)*factorial(n-k)))\n",
    "\n",
    "p_1 = ((combination(5,0)*combination(3,2))/(combination(8,2)))*((combination(5,3)*combination(7,1))/(combination(12,4)))\n",
    "p_2 = ((combination(5,1)*combination(3,1))/(combination(8,2)))*((combination(5,2)*combination(7,2))/(combination(12,4)))\n",
    "p_3 = ((combination(5,2)*combination(3,0))/(combination(8,2)))*((combination(5,1)*combination(7,3))/(combination(12,4)))\n",
    "p = p_1+p_2+p_3\n",
    "print(p)"
   ],
   "metadata": {
    "collapsed": false,
    "pycharm": {
     "name": "#%%\n"
    }
   }
  },
  {
   "cell_type": "code",
   "execution_count": 11,
   "outputs": [
    {
     "name": "stdout",
     "output_type": "stream",
     "text": [
      "0.7666666666666667 0.3913043478260869 0.34782608695652173 0.26086956521739124\n"
     ]
    }
   ],
   "source": [
    "#На соревновании по биатлону один из трех спортсменов\n",
    "# стреляет и попадает в мишень. Вероятность попадания для\n",
    "# первого спортсмена равна 0.9, для второго — 0.8, для\n",
    "# третьего — 0.6. Найти вероятность того, что выстрел\n",
    "# произведен: a). первым спортсменом б). вторым спортсменом\n",
    "# в). третьим спортсменом.\n",
    "\n",
    "p1 = 0.9\n",
    "p2 = 0.8\n",
    "p3 = 0.6\n",
    "p=1/3*(p1+p2+p3)\n",
    "p_1=(1/3*p1)/p\n",
    "p_2=(1/3*p2)/p\n",
    "p_3=(1/3*p3)/p\n",
    "print(p, p_1, p_2, p_3)\n"
   ],
   "metadata": {
    "collapsed": false,
    "pycharm": {
     "name": "#%%\n"
    }
   }
  },
  {
   "cell_type": "code",
   "execution_count": 13,
   "outputs": [
    {
     "name": "stdout",
     "output_type": "stream",
     "text": [
      "0.825 0.24242424242424246 0.21212121212121213 0.5454545454545455\n"
     ]
    }
   ],
   "source": [
    "#В университет на факультеты A и B поступило равное\n",
    "# количество студентов, а на факультет C студентов поступило\n",
    "# столько же, сколько на A и B вместе. Вероятность того, что\n",
    "# студент факультета A сдаст первую сессию, равна 0.8.\n",
    "# Для студента факультета B эта вероятность равна 0.7,\n",
    "# а для студента факультета C - 0.9. Студент сдал первую\n",
    "# сессию. Какова вероятность, что он учится: a).\n",
    "# на факультете A б). на факультете B в). на факультете C?\n",
    "\n",
    "p = 0.8*1/4+0.7*1/4+0.9*1/2\n",
    "pA= (0.8*1/4)/p\n",
    "pB=(0.7*1/4)/p\n",
    "pC=(0.9*1/2)/p\n",
    "\n",
    "print(p, pA, pB, pC)"
   ],
   "metadata": {
    "collapsed": false,
    "pycharm": {
     "name": "#%%\n"
    }
   }
  },
  {
   "cell_type": "code",
   "execution_count": 15,
   "outputs": [
    {
     "name": "stdout",
     "output_type": "stream",
     "text": [
      "0.01 0.08 0.46 0.54\n"
     ]
    }
   ],
   "source": [
    "#Устройство состоит из трех деталей. Для первой детали\n",
    "#вероятность выйти из строя в первый месяц равна 0.1,\n",
    "#для второй - 0.2, для третьей - 0.25. Какова вероятность того,\n",
    "#что в первый месяц выйдут из строя: а). все детали\n",
    "#б). только две детали в). хотя бы одна деталь г).\n",
    "#от одной до двух деталей?\n",
    "\n",
    "p1 = 0.1*0.2*0.25 # все детали\n",
    "p2 = (1-0.1)*0.2*0.25 + (1-0.2)*0.1*0.25 + (1-0.25)*0.1*0.2 #only two\n",
    "p3 = 1-((1-0.1)*(1-0.2)*(1-0.25)) #хотя бы одна деталь\n",
    "p4 = 1- p3 -p1 #от одной до двух деталей\n",
    "\n",
    "print(round(p1, 2), round(p2, 2), round(p3, 2), round(p4, 2))"
   ],
   "metadata": {
    "collapsed": false,
    "pycharm": {
     "name": "#%%\n"
    }
   }
  }
 ],
 "metadata": {
  "kernelspec": {
   "display_name": "Python 3",
   "language": "python",
   "name": "python3"
  },
  "language_info": {
   "codemirror_mode": {
    "name": "ipython",
    "version": 2
   },
   "file_extension": ".py",
   "mimetype": "text/x-python",
   "name": "python",
   "nbconvert_exporter": "python",
   "pygments_lexer": "ipython2",
   "version": "2.7.6"
  }
 },
 "nbformat": 4,
 "nbformat_minor": 0
}