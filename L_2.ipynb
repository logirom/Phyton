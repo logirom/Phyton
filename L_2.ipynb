{
 "cells": [
  {
   "cell_type": "code",
   "execution_count": 2,
   "metadata": {
    "collapsed": true
   },
   "outputs": [
    {
     "name": "stdout",
     "output_type": "stream",
     "text": [
      "0.048061793700746355\n"
     ]
    }
   ],
   "source": [
    "#Вероятность того, что стрелок попадет в мишень,\n",
    "# выстрелив один раз, равна 0.8. Стрелок выстрелил 100 раз.\n",
    "# Найдите вероятность того, что стрелок попадет в цель\n",
    "# ровно 85 раз.\n",
    "\n",
    "from math import factorial\n",
    "p  = 0.8\n",
    "n = 100\n",
    "k = 85\n",
    "c = (factorial(n)/(factorial(k)*factorial(n-k)))\n",
    "p_n = c*(p**k)*((1-p)**(100-85))\n",
    "print(p_n)"
   ]
  },
  {
   "cell_type": "code",
   "execution_count": 7,
   "outputs": [
    {
     "name": "stdout",
     "output_type": "stream",
     "text": [
      "0.1353352832366127\n",
      "0.2706705664732254\n"
     ]
    }
   ],
   "source": [
    "#Вероятность того, что лампочка перегорит в течение\n",
    "# первого дня эксплуатации, равна 0.0004. В жилом\n",
    "# комплексе после ремонта в один день включили 5000\n",
    "# новых лампочек. Какова вероятность, что ни одна из них\n",
    "# не перегорит в первый день?\n",
    "# Какова вероятность, что перегорят ровно две?\n",
    "import math\n",
    "\n",
    "p_1 = 0.0004\n",
    "n_1 = 5000\n",
    "k_1 = 0\n",
    "k_2 = 2\n",
    "\n",
    "def Puason(n, p, k):\n",
    "   return (((n*p)**k)/factorial(k))*math.exp(-(n*p))\n",
    "\n",
    "print(Puason(n_1, p_1, k_1))\n",
    "print(Puason(n_1, p_1, k_2))"
   ],
   "metadata": {
    "collapsed": false,
    "pycharm": {
     "name": "#%%\n"
    }
   }
  },
  {
   "cell_type": "code",
   "execution_count": 4,
   "outputs": [
    {
     "name": "stdout",
     "output_type": "stream",
     "text": [
      "0.06281178035144776\n"
     ]
    }
   ],
   "source": [
    "#Монету подбросили 144 раза. Какова вероятность,\n",
    "#что орел выпадет ровно 70 раз?\n",
    "from math import factorial\n",
    "m = factorial(144)/(factorial(70)*factorial(144-70))\n",
    "n = 2**144\n",
    "p = m/n\n",
    "print(p)"
   ],
   "metadata": {
    "collapsed": false,
    "pycharm": {
     "name": "#%%\n"
    }
   }
  },
  {
   "cell_type": "code",
   "execution_count": 16,
   "outputs": [
    {
     "name": "stdout",
     "output_type": "stream",
     "text": [
      "0.305 0.999\n"
     ]
    }
   ],
   "source": [
    "#В первом ящике находится 10 мячей,\n",
    "# из которых 7 - белые. Во втором ящике - 11 мячей,\n",
    "# из которых 9 белых.\n",
    "# Из каждого ящика вытаскивают случайным образом\n",
    "# по два мяча. Какова вероятность того, что все мячи\n",
    "# белые? Какова вероятность того, что ровно два мяча\n",
    "# белые? Какова вероятность того, что хотя бы один мяч\n",
    "# белый?\n",
    "from math import factorial\n",
    "def combination(n, k):\n",
    "    return int(factorial(n)/(factorial(k)*factorial(n-k)))\n",
    "p = combination(7,2)/combination(10,2)*combination(9,2)/combination(11,2)\n",
    "p_2 = 1 - combination(3,2)/combination(10,2)*combination(2,2)/combination(11,2)\n",
    "p_1_1 = combination(7,2)/combination(10,2)*combination(2,2)/combination(11,2)\n",
    "p_2_1 = combination(3,2)/combination(10,2)*combination(9,2)/combination(11,2)\n",
    "p_3_1 = (7/10*3/9+3/9*7/9)*(9/11*2/10+2/11*9/11)\n",
    "p_3 = p_1_1+p_2_1+p_3_1\n",
    
    "\n",
    "print (round(p, 3), round(p_2, 3), round(p_3, 3))\n",
    "\n"
   ],
   "metadata": {
    "collapsed": false,
    "pycharm": {
     "name": "#%%\n"
    }
   }
  }
 ],
 "metadata": {
  "kernelspec": {
   "display_name": "Python 3",
   "language": "python",
   "name": "python3"
  },
  "language_info": {
   "codemirror_mode": {
    "name": "ipython",
    "version": 2
   },
   "file_extension": ".py",
   "mimetype": "text/x-python",
   "name": "python",
   "nbconvert_exporter": "python",
   "pygments_lexer": "ipython2",
   "version": "2.7.6"
  }
 },
 "nbformat": 4,
 "nbformat_minor": 0
}
