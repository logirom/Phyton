{
 "cells": [
  {
   "cell_type": "code",
   "execution_count": 7,
   "metadata": {
    "collapsed": true
   },
   "outputs": [
    {
     "name": "stdout",
     "output_type": "stream",
     "text": [
      "Матрица A:\n",
      "[[ 1  2  0]\n",
      " [ 0  0  5]\n",
      " [ 3 -4  2]\n",
      " [ 1  6  5]\n",
      " [ 0  1  0]]\n",
      "Матрица V:\n",
      "[[ 0.07 -0.37 -0.93]\n",
      " [ 0.72  0.67 -0.21]\n",
      " [ 0.69 -0.65  0.31]]\n",
      "Матрица D:\n",
      "[[8.82 0.   0.  ]\n",
      " [0.   6.14 0.  ]\n",
      " [0.   0.   2.53]\n",
      " [0.   0.   0.  ]\n",
      " [0.   0.   0.  ]]\n",
      "Матрица U:\n",
      "[[ 0.17  0.16 -0.53 -0.8  -0.16]\n",
      " [ 0.39 -0.53  0.61 -0.43  0.03]\n",
      " [-0.14 -0.82 -0.52  0.14  0.07]\n",
      " [ 0.89  0.06 -0.25  0.38 -0.06]\n",
      " [ 0.08  0.11 -0.08 -0.11  0.98]]\n",
      "[[ 1.  0. -0.  0. -0.]\n",
      " [ 0.  1.  0.  0.  0.]\n",
      " [-0.  0.  1. -0. -0.]\n",
      " [ 0.  0. -0.  1. -0.]\n",
      " [-0.  0. -0. -0.  1.]]\n",
      "[[ 1.  0. -0.]\n",
      " [ 0.  1. -0.]\n",
      " [-0. -0.  1.]]\n",
      "[[ 1.  2.  0.]\n",
      " [ 0. -0.  5.]\n",
      " [ 3. -4.  2.]\n",
      " [ 1.  6.  5.]\n",
      " [-0.  1. -0.]]\n",
      "l1 евклидова норма:\n",
      "8.824868854820444\n",
      "l1 Фробениуса норма:\n",
      "11.045361017187261\n"
     ]
    }
   ],
   "source": [
    "import numpy as np\n",
    "from numpy.linalg import norm\n",
    "np.set_printoptions(precision=2, suppress=True)\n",
    "a = np.matrix('1, 2, 0; 0, 0, 5; 3, -4, 2; 1, 6, 5; 0, 1, 0')\n",
    "u, s, w = np.linalg.svd(a)\n",
    "print(f'Матрица A:\\n{a}')\n",
    "# Транспонируем матрицу W\n",
    "v = w.T\n",
    "print(f'Матрица V:\\n{v}')\n",
    "# s - список диагональных элементов, его нужно привести к виду диагональной матрицы для наглядности\n",
    "d = np.zeros_like(a, dtype=float)\n",
    "d[np.diag_indices(min(a.shape))] = s\n",
    "print(f'Матрица D:\\n{d}')\n",
    "print(f'Матрица U:\\n{u}')\n",
    "# Убедимся, что она действительно ортогональна\n",
    "print(np.dot(u.T, u))\n",
    "\n",
    "# Убедимся, что она действительно ортогональна\n",
    "print(np.dot(v.T, v))\n",
    "# Проведем проверку\n",
    "print(np.dot(np.dot(u, d), v.T))\n",
    "print(f'l1 евклидова норма:\\n{norm(a, ord=2)}')\n",
    "print(f'l1 Фробениуса норма:\\n{norm(a, ord= None)}')"
   ]
  }
 ],
 "metadata": {
  "kernelspec": {
   "display_name": "Python 3",
   "language": "python",
   "name": "python3"
  },
  "language_info": {
   "codemirror_mode": {
    "name": "ipython",
    "version": 2
   },
   "file_extension": ".py",
   "mimetype": "text/x-python",
   "name": "python",
   "nbconvert_exporter": "python",
   "pygments_lexer": "ipython2",
   "version": "2.7.6"
  }
 },
 "nbformat": 4,
 "nbformat_minor": 0
}