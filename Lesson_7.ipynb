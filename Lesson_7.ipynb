{
 "cells": [
  {
   "cell_type": "code",
   "execution_count": 19,
   "metadata": {
    "collapsed": true
   },
   "outputs": [
    {
     "name": "stdout",
     "output_type": "stream",
     "text": [
      "матрица а:\n",
      "[[7 4 7]\n",
      " [6 8 7]\n",
      " [7 4 8]]\n",
      "матрица а:\n",
      "[8 4 5]\n",
      "детерминант матрицы а:\n",
      "31.999999999999986\n",
      "матрица а_1:\n",
      "[[8, 4, 7], [4, 8, 7], [5, 4, 8]]\n",
      "4.125000000000001\n",
      "матрица а_1:\n",
      "[[7, 8, 7], [6, 4, 7], [7, 5, 8]]\n",
      "0.031250000000000125\n",
      "матрица а_1:\n",
      "[[7, 4, 8], [6, 8, 4], [7, 4, 5]]\n",
      "-3.000000000000001\n"
     ]
    }
   ],
   "source": [
    "#метод Крамера\n",
    "import numpy as np\n",
    "def subst_col (matrix, column, index):\n",
    "    resmatrix = []\n",
    "    for i in range(0, len(matrix)):\n",
    "        row=[]\n",
    "        for j in range (len(matrix[i])):\n",
    "            val = matrix[i][j]\n",
    "            if j == index:\n",
    "                val = column[i]\n",
    "            row.append(val)\n",
    "        resmatrix.append(row)\n",
    "    return resmatrix\n",
    "\n",
    "n = int(input(\"ввести ранг матрицы n =\"))\n",
    "a=np.random.randint(9,size=(n,n))\n",
    "b=np.random.randint(9,size=(n))\n",
    "det_a = np.linalg.det(a)\n",
    "print(f'матрица а:\\n{a}')\n",
    "print(f'матрица а:\\n{b}')\n",
    "print(f'детерминант матрицы а:\\n{det_a}')\n",
    "if det_a != 0:\n",
    "    for i in range(0, n):\n",
    "        a_1=subst_col(a,b,i)\n",
    "        print(f'матрица а_1:\\n{a_1}')\n",
    "        det_i = np.linalg.det(a_1)\n",
    "        x=det_i/det_a\n",
    "        print(x)\n"
   ]
  }
 ],
 "metadata": {
  "kernelspec": {
   "display_name": "Python 3",
   "language": "python",
   "name": "python3"
  },
  "language_info": {
   "codemirror_mode": {
    "name": "ipython",
    "version": 2
   },
   "file_extension": ".py",
   "mimetype": "text/x-python",
   "name": "python",
   "nbconvert_exporter": "python",
   "pygments_lexer": "ipython2",
   "version": "2.7.6"
  }
 },
 "nbformat": 4,
 "nbformat_minor": 0
}