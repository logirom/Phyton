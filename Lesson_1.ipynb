{
 "cells": [
  {
   "cell_type": "code",
   "execution_count": 24,
   "metadata": {
    "collapsed": true
   },
   "outputs": [
    {
     "name": "stdout",
     "output_type": "stream",
     "text": [
      "33 -23\n"
     ]
    }
   ],
   "source": [
    "#1. Найти скалярное произведение векторов x,y∈R:\n",
    "#а) x=(0,−3,6), y=(−4,7,9);\n",
    "#б) x=(7,−4,0,1), y=(−3,1,11,2)\n",
    "import numpy as np\n",
    "x = np.array([0, -3, 6])\n",
    "y = np.array([-4, 7, 9])\n",
    "x1= np.array([7, -4, 0, 1])\n",
    "y1 = np.array([-3, 1, 11, 2])\n",
    "result = np.dot(x, y)\n",
    "result1 = np.dot(x1, y1)\n",
    "print (result, result1)"
   ]
  },
  {
   "cell_type": "code",
   "execution_count": 45,
   "outputs": [
    {
     "name": "stdout",
     "output_type": "stream",
     "text": [
      "l1 манхентонская норма вектора x:\n",
      "10.0\n",
      "l1 евклидова норма вектора x:\n",
      "6.0\n",
      "l1 манхентонская норма вектора y:\n",
      "19.0\n",
      "l1 евклидова норма вектора y:\n",
      "13.0\n",
      "угол между векторами: \n",
      "0.8974358974358974\n"
     ]
    }
   ],
   "source": [
    "#2. Найти нормы векторов (4,2,4) и (12,3,4)\n",
    "# и угол между ними.\n",
    "import numpy as np\n",
    "from numpy.linalg import norm\n",
    "x = np.array([4, 2, 4])\n",
    "y = np.array([12, 3, 4])\n",
    "cos_phi = np.dot(x, y) / norm(x) / norm(y)\n",
    "print(f'l1 манхентонская норма вектора x:\\n{norm(x, ord=1)}')\n",
    "print(f'l1 евклидова норма вектора x:\\n{norm(x, ord=2)}')\n",
    "print(f'l1 манхентонская норма вектора y:\\n{norm(y, ord=1)}')\n",
    "print(f'l1 евклидова норма вектора y:\\n{norm(y, ord=2)}')\n",
    "print(f'угол между векторами: \\n{cos_phi}')"
   ],
   "metadata": {
    "collapsed": false,
    "pycharm": {
     "name": "#%%\n"
    }
   }
  }
 ],
 "metadata": {
  "kernelspec": {
   "display_name": "Python 3",
   "language": "python",
   "name": "python3"
  },
  "language_info": {
   "codemirror_mode": {
    "name": "ipython",
    "version": 2
   },
   "file_extension": ".py",
   "mimetype": "text/x-python",
   "name": "python",
   "nbconvert_exporter": "python",
   "pygments_lexer": "ipython2",
   "version": "2.7.6"
  }
 },
 "nbformat": 4,
 "nbformat_minor": 0
}