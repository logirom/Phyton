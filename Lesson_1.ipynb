{
 "cells": [
  {
   "cell_type": "code",
   "execution_count": 30,
   "metadata": {
    "collapsed": true,
    "pycharm": {
     "name": "#%%\n"
    }
   },
   "outputs": [
    {
     "name": "stdout",
     "output_type": "stream",
     "text": [
      "[[ 1  6]\n",
      " [ 2  8]\n",
      " [ 3  1]\n",
      " [ 3 10]\n",
      " [ 1  7]]\n",
      "среднее значение признака: [2.  6.4]\n",
      "[2.  6.4]\n",
      "Размерность a: 2\n",
      "[[2.  6.4]]\n",
      "[[-1.  -0.4]\n",
      " [ 0.   1.6]\n",
      " [ 1.  -5.4]\n",
      " [ 1.   3.6]\n",
      " [-1.   0.6]]\n",
      "-2.0\n",
      "-0.5\n",
      "[[ 1  2  3  3  1]\n",
      " [ 6  8  1 10  7]]\n",
      "матрица : [[ 1.  -0.5]\n",
      " [-0.5 11.3]]\n",
      "Ковариантность a: -0.5\n"
     ]
    }
   ],
   "source": [
    "#Тема “Вычисления с помощью Numpy”\n",
    "#Задание 1\n",
    "import numpy as np\n",
    "a = np.array([[1, 6],\n",
    "             [2, 8],\n",
    "             [3,1],\n",
    "             [3, 10],\n",
    "             [1, 7]])\n",
    "mean_a = a.mean(axis=0)\n",
    "\n",
    "print(a)\n",
    "print(\"среднее значение признака: {}\".format(a.mean(axis=0)))\n",
    "print(mean_a)\n",
    "print(\"Размерность a: {}\".format(a.ndim))\n",
    "\n",
    "\n",
    "#Задание 2\n",
    "#Вычислите массив a_centered, отняв от значений массива “а”\n",
    "# средние значения соответствующих признаков, содержащиеся\n",
    "# в массиве mean_a. Вычисление должно производиться в одно\n",
    "# действие. Получившийся массив должен иметь размер 5x2.\n",
    "\n",
    "b = mean_a.reshape(1, 2)\n",
    "print(b)\n",
    "a_centered = a - b\n",
    "print(a_centered)\n",
    "\n",
    "#Задание 3\n",
    "#Найдите скалярное произведение столбцов массива a_centered.\n",
    "# В результате должна получиться величина a_centered_sp.\n",
    "# Затем поделите a_centered_sp на N-1, где N - число наблюдений.\n",
    "a_centered_sp = np.dot(a_centered[:, 0], a_centered[:, 1])\n",
    "print(a_centered_sp)\n",
    "n=a.shape[0]\n",
    "c = a_centered_sp/(n-1)\n",
    "print(c)\n",
    "#Задание 4**\n",
    "#В этом задании проверьте получившееся число, вычислив\n",
    "# ковариацию еще одним способом - с помощью функции np.cov.\n",
    "# В качестве аргумента m функция np.cov должна принимать\n",
    "# транспонированный массив “a”. В получившейся ковариационной\n",
    "# матрице (массив Numpy размером 2x2) искомое значение ковариации\n",
    "# будет равно элементу в строке с индексом 0 и столбце с индексом 1.\n",
    "a_t = np.transpose(a)\n",
    "print(a_t)\n",
    "print(\"матрица : {}\".format(np.cov(a_t)))\n",
    "print(\"Ковариантность a: {}\".format(a_t_cov[0,1]))"
   ]
  },
  {
   "cell_type": "code",
   "execution_count": 48,
   "outputs": [
    {
     "data": {
      "text/plain": "cover        мягкая  твердая\nauthor_name                 \nОстровский      660        0\nТургенев        650      450\nЧехов             0      950",
      "text/html": "<div>\n<style scoped>\n    .dataframe tbody tr th:only-of-type {\n        vertical-align: middle;\n    }\n\n    .dataframe tbody tr th {\n        vertical-align: top;\n    }\n\n    .dataframe thead th {\n        text-align: right;\n    }\n</style>\n<table border=\"1\" class=\"dataframe\">\n  <thead>\n    <tr style=\"text-align: right;\">\n      <th>cover</th>\n      <th>мягкая</th>\n      <th>твердая</th>\n    </tr>\n    <tr>\n      <th>author_name</th>\n      <th></th>\n      <th></th>\n    </tr>\n  </thead>\n  <tbody>\n    <tr>\n      <th>Островский</th>\n      <td>660</td>\n      <td>0</td>\n    </tr>\n    <tr>\n      <th>Тургенев</th>\n      <td>650</td>\n      <td>450</td>\n    </tr>\n    <tr>\n      <th>Чехов</th>\n      <td>0</td>\n      <td>950</td>\n    </tr>\n  </tbody>\n</table>\n</div>"
     },
     "execution_count": 48,
     "metadata": {},
     "output_type": "execute_result"
    }
   ],
   "source": [
    "#Тема “Работа с данными в Pandas”\n",
    "#Создайте датафрейм authors со столбцами author_id и author_name,\n",
    "# в которых соответственно содержатся данные: [1, 2, 3] и ['Тургенев', 'Чехов',\n",
    "# 'Островский'].\n",
    "import pandas as pd\n",
    "import numpy as np\n",
    "authors = pd.DataFrame({'author_id': [1, 2, 3],\n",
    "'author_name': ['Тургенев', 'Чехов', 'Островский']})\n",
    "columns = (['author_id', 'author_name'])\n",
    "authors\n",
    "\n",
    "books = pd.DataFrame({'author_id':[1, 1, 1, 2, 2, 3, 3],\n",
    "'book_title':['Отцы и дети', 'Рудин', 'Дворянское гнездо', 'Толстый и тонкий', 'Дама с собачкой', 'Гроза', 'Таланты и поклонники'],\n",
    "'price':[450, 300, 350, 500, 450, 370, 290]},\n",
    "columns=['author_id', 'book_title', 'price'])\n",
    "books\n",
    "\n",
    "authors_price = pd.merge(authors, books, on = 'author_id', how = 'outer')\n",
    "authors_price\n",
    "\n",
    "top5 = authors_price.nlargest(5, 'price')\n",
    "top5\n",
    "\n",
    "df_1 = authors_price.groupby('author_name').agg({'price': 'min'}).rename(columns={'price':'min_price'})\n",
    "df_2 = authors_price.groupby('author_name').agg({'price': 'max'}).rename(columns={'price':'max_price'})\n",
    "df_3 = authors_price.groupby('author_name').agg({'price': 'mean'}).rename(columns={'price':'mean_price'})\n",
    "authors_stat = pd.concat([df_1, df_2, df_3], axis = 1)\n",
    "authors_stat\n",
    "\n",
    "df_4 = pd.DataFrame({'cover':['твердая', 'мягкая', 'мягкая', 'твердая', 'твердая', 'мягкая', 'мягкая']}, columns=['cover'])\n",
    "authors_price = pd.concat([authors_price, df_4], axis = 1)\n",
    "authors_price\n",
    "\n",
    "book_info = pd.pivot_table(authors_price, values='price', index=['author_name'],\n",
    "columns=['cover'], aggfunc=np.sum, fill_value=0)\n",
    "book_info"
   ],
   "metadata": {
    "collapsed": false,
    "pycharm": {
     "name": "#%%\n"
    }
   }
  }
 ],
 "metadata": {
  "kernelspec": {
   "display_name": "Python 3",
   "language": "python",
   "name": "python3"
  },
  "language_info": {
   "codemirror_mode": {
    "name": "ipython",
    "version": 2
   },
   "file_extension": ".py",
   "mimetype": "text/x-python",
   "name": "python",
   "nbconvert_exporter": "python",
   "pygments_lexer": "ipython2",
   "version": "2.7.6"
  }
 },
 "nbformat": 4,
 "nbformat_minor": 0
}