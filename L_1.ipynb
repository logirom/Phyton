{
 "cells": [
  {
   "cell_type": "code",
   "execution_count": 30,
   "outputs": [
    {
     "name": "stdout",
     "output_type": "stream",
     "text": [
      "3.6937852063902484e-06\n",
      "0.2812632745405854\n"
     ]
    }
   ],
   "source": [
    "#Из колоды в 52 карты извлекаются случайным образом 4 карты.\n",
    "#a) Найти вероятность того, что все карты – крести.\n",
    "# 1 черви, 2 буби, 3 крести, 4 пики\n",
    "from math import factorial\n",
    "n_1 = 52\n",
    "k_1 = 4\n",
    "n_2 = 13\n",
    "n_3 = 48\n",
    "def combination (n, k):\n",
    "    return int(factorial(n)/(factorial(k) * factorial(n-k)))\n",
    "p = combination(n_2, k_2)/combination(n_1, k_1)\n",
    "print(p)\n",
    "#б) Найти вероятность, что среди 4-х карт окажется хотя бы один туз.\n",
    "p_1 = 1 - combination(n_3, k_1)/combination(n_1, k_1)\n",
    "print(p_1)\n"
   ],
   "metadata": {
    "collapsed": false,
    "pycharm": {
     "name": "#%%\n"
    }
   }
  },
  {
   "cell_type": "code",
   "execution_count": 34,
   "outputs": [
    {
     "name": "stdout",
     "output_type": "stream",
     "text": [
      "0.001388888888888889\n"
     ]
    }
   ],
   "source": [
    "#На входной двери подъезда установлен кодовый замок,\n",
    "# содержащий десять кнопок с цифрами от 0 до 9.\n",
    "# Код содержит три цифры, которые нужно нажать одновременно.\n",
    "# Какова вероятность того, что человек, не знающий код,\n",
    "# откроет дверь с первой попытки?\n",
    "\n",
    "from math import factorial\n",
    "n = 10\n",
    "k = 3\n",
    "p = 1/int(factorial(n)/factorial(n-k))\n",
    "print(p)"
   ],
   "metadata": {
    "collapsed": false,
    "pycharm": {
     "name": "#%%\n"
    }
   }
  },
  {
   "cell_type": "code",
   "execution_count": 41,
   "outputs": [
    {
     "name": "stdout",
     "output_type": "stream",
     "text": [
      "0.016783216783216783\n"
     ]
    }
   ],
   "source": [
    "#В ящике имеется 15 деталей, из которых 9 окрашены. Рабочий\n",
    "#случайным образом извлекает 3 детали. Какова вероятность того,\n",
    "#что все извлеченные детали окрашены?\n",
    "from math import factorial\n",
    "n = 15\n",
    "k_1 = 9\n",
    "k_2 = 3\n",
    "m = int(factorial(n)/(factorial(k_1) * factorial(n-k_1)))\n",
    "n_1 = int(factorial(k_1)/(factorial(k_2) * factorial(k_1-k_2)))\n",
    "\n",
    "p = n_1/m\n",
    "print (p)\n"
   ],
   "metadata": {
    "collapsed": false,
    "pycharm": {
     "name": "#%%\n"
    }
   }
  },
  {
   "cell_type": "code",
   "execution_count": 45,
   "outputs": [
    {
     "name": "stdout",
     "output_type": "stream",
     "text": [
      "0.00020202020202020202\n"
     ]
    }
   ],
   "source": [
    "#В лотерее 100 билетов. Из них 2 выигрышных. Какова вероятность\n",
    "# того, что 2 приобретенных билета окажутся выигрышными?\n",
    "\n",
    "from math import factorial\n",
    "n = 100\n",
    "k = 2\n",
    "m = int(factorial(n)/(factorial(k) * factorial(n-k)))\n",
    "p = 1/m\n",
    "print (p)"
   ],
   "metadata": {
    "collapsed": false,
    "pycharm": {
     "name": "#%%\n"
    }
   }
  }
 ],
 "metadata": {
  "kernelspec": {
   "display_name": "Python 3",
   "language": "python",
   "name": "python3"
  },
  "language_info": {
   "codemirror_mode": {
    "name": "ipython",
    "version": 2
   },
   "file_extension": ".py",
   "mimetype": "text/x-python",
   "name": "python",
   "nbconvert_exporter": "python",
   "pygments_lexer": "ipython2",
   "version": "2.7.6"
  }
 },
 "nbformat": 4,
 "nbformat_minor": 0
}