{
 "cells": [
  {
   "cell_type": "code",
   "execution_count": 1,
   "metadata": {
    "collapsed": true
   },
   "outputs": [
    {
     "ename": "SyntaxError",
     "evalue": "invalid syntax (<ipython-input-1-69f8d7168965>, line 1)",
     "output_type": "error",
     "traceback": [
      "\u001B[1;36m  File \u001B[1;32m\"<ipython-input-1-69f8d7168965>\"\u001B[1;36m, line \u001B[1;32m1\u001B[0m\n\u001B[1;33m    **задание 1**\u001B[0m\n\u001B[1;37m    ^\u001B[0m\n\u001B[1;31mSyntaxError\u001B[0m\u001B[1;31m:\u001B[0m invalid syntax\n"
     ]
    }
   ],
   "source": [
    "**задание 1**"
   ]
  },
  {
   "cell_type": "code",
   "execution_count": null,
   "outputs": [],
   "source": [
    "from matplotlib import pyplot as plt\n",
    "import pandas as pd\n",
    "%matplotlib inline\n",
    "%config InlineBackend.figure_format = 'svg'\n",
    "x = [1, 2, 3, 4, 5, 6, 7]\n",
    "y = [3.5, 3.8, 4.2, 4.5, 5, 5.5, 7]\n",
    "plt.plot(x,y)\n",
    "plt.show()\n",
    "plt.scatter(x,y)\n",
    "plt.show()"
   ],
   "metadata": {
    "collapsed": false,
    "pycharm": {
     "name": "#%%\n"
    }
   }
  },
  {
   "cell_type": "code",
   "execution_count": null,
   "outputs": [],
   "source": [
    "**задание 2**"
   ],
   "metadata": {
    "collapsed": false,
    "pycharm": {
     "name": "#%%\n"
    }
   }
  },
  {
   "cell_type": "code",
   "execution_count": null,
   "outputs": [],
   "source": [
    "t = np.linspace(0, 10, 51)\n",
    "print(t)\n",
    "f=np.cos(t)\n",
    "print(f)\n",
    "plt.plot(t, f, color=\"green\")\n",
    "plt.axis([0.5, 9.5, -2.5, 2.5])\n",
    "plt.title('График f(t)', fontdict=title_font)\n",
    "plt.xlabel('Значения t', fontdict=label_font)\n",
    "plt.ylabel('Значения f')\n",
    "plt.show()\n"
   ],
   "metadata": {
    "collapsed": false,
    "pycharm": {
     "name": "#%%\n"
    }
   }
  },
  {
   "cell_type": "code",
   "execution_count": null,
   "outputs": [],
   "source": [
    "**задание 3**"
   ],
   "metadata": {
    "collapsed": false,
    "pycharm": {
     "name": "#%%\n"
    }
   }
  },
  {
   "cell_type": "code",
   "execution_count": null,
   "outputs": [],
   "source": [
    "x = np.linspace(-3, 3, 51)\n",
    "print(t)\n",
    "y1 = x**2\n",
    "y2 = 2*x + 0.5\n",
    "y3 = -3*x - 1.5\n",
    "y4 = np.sin(x)\n",
    "\n",
    "fig, ax = plt.subplots(nrows=2, ncols=2)\n",
    "ax1, ax2, ax3, ax4 = ax.flatten()\n",
    "ax1.plot(x, y1)\n",
    "ax1.set_title('График y1')\n",
    "ax1.set_xlim([-5, 5])\n",
    "ax2.plot(x, y2)\n",
    "ax2.set_title('График y2')\n",
    "ax3.plot(x, y3)\n",
    "ax3.set_title('График y3')\n",
    "ax4.plot(x, y4)\n",
    "ax4.set_title('График y4')\n",
    "fig.set_size_inches(8, 6)\n",
    "plt.subplots_adjust(wspace=0.3, hspace=0.3)\n",
    "#plt.show()"
   ],
   "metadata": {
    "collapsed": false,
    "pycharm": {
     "name": "#%%\n"
    }
   }
  },
  {
   "cell_type": "code",
   "execution_count": null,
   "outputs": [],
   "source": [
    "**задание 3**"
   ],
   "metadata": {
    "collapsed": false,
    "pycharm": {
     "name": "#%%\n"
    }
   }
  },
  {
   "cell_type": "code",
   "execution_count": null,
   "outputs": [],
   "source": [
    "plt.style.use('fivethirtyeight')\n",
    "DATASET_PATH = './creditcard.csv'\n",
    "df = pd.read_csv(DATASET_PATH, sep=',')\n",
    "df.head()\n",
    "t = df['Class'].value_counts()\n",
    "t\n",
    "\n",
    "df_class = pd.Series(t)\n",
    "df_class.plot(kind='bar')\n",
    "plt.show()\n",
    "df_class.plot(kind='bar', logy=True)\n",
    "plt.show()\n",
    "\n",
    "v1_class1=df.set_index('Class')['V1'].filter(like='1', axis=0)\n",
    "v1_class1=v1_class1.reset_index()\n",
    "v1_class1=v1_class1.drop('Class', axis=1)\n",
    "v1_class1.head()\n",
    "v1_class1.count()\n",
    "v1_class0=df.set_index('Class')['V1'].filter(like='0', axis=0)\n",
    "v1_class0=v1_class0.reset_index()\n",
    "v1_class0=v1_class0.drop('Class', axis=1)\n",
    "v1_class0.head()\n",
    "v1_class0.count()\n",
    "\n",
    "plt.hist(v1_class0['V1'], bins=20, color='grey', edgecolor='black', density = True, orientation='horizontal')\n",
    "plt.hist(v1_class1['V1'], bins=20, color='red', edgecolor='black', density = True, orientation='horizontal')\n",
    "plt.plot()\n",
    "plt.xlabel('Class')\n",
    "plt.legend(labels=['Class 0', 'Class 1'])"
   ],
   "metadata": {
    "collapsed": false,
    "pycharm": {
     "name": "#%%\n"
    }
   }
  },
  {
   "cell_type": "code",
   "execution_count": null,
   "outputs": [],
   "source": [
    "**Задание на повторение материала**"
   ],
   "metadata": {
    "collapsed": false,
    "pycharm": {
     "name": "#%%\n"
    }
   }
  },
  {
   "cell_type": "code",
   "execution_count": null,
   "outputs": [],
   "source": [
    "import numpy as np\n",
    "a = np.arange(12,24)\n",
    "print(a)\n",
    "a1=a.reshape(6, 2)\n",
    "a2=a.reshape(2, 6)\n",
    "a3=a.reshape(3, 4)\n",
    "a4=a.reshape(4, 3)\n",
    "a5=a.reshape(12, 1)\n",
    "print(a1)\n",
    "print(a2)\n",
    "print(a3)\n",
    "print(a4)\n",
    "print(a5)\n",
    "a6=a.reshape(6, -1)\n",
    "a7=a.reshape(2, -1)\n",
    "a8=a.reshape(3, -1)\n",
    "a9=a.reshape(-1, 3)\n",
    "a11=a.reshape(-1, 1)\n",
    "print(a6)\n",
    "print(a7)\n",
    "print(a8)\n",
    "print(a9)\n",
    "print(a11)\n",
    "#Если в массиве для обращения к элементам используется\n",
    "# только один порядковый номер, то такой массив\n",
    "# называется линейным, или одномерным. Одномерный\n",
    "# массив можно представить в виде таблицы, в которой\n",
    "# существует только одна строка."
   ],
   "metadata": {
    "collapsed": false,
    "pycharm": {
     "name": "#%%\n"
    }
   }
  },
  {
   "cell_type": "code",
   "execution_count": null,
   "outputs": [],
   "source": [
    "b=np.random.randn(3,4)\n",
    "print(b)\n",
    "print(\"размер исходного массива: {}\".format(b.size))\n",
    "b1=b.flatten()\n",
    "print(b1)\n",
    "print(\"размер одномерного массива: {}\".format(b1.size))"
   ],
   "metadata": {
    "collapsed": false,
    "pycharm": {
     "name": "#%%\n"
    }
   }
  },
  {
   "cell_type": "code",
   "execution_count": null,
   "outputs": [],
   "source": [
    "a=np.arange(20, 0, -2)\n",
    "print(\"одномерный массив \\n\", a)\n",
    "b=np.arange(20, 1, -2)\n",
    "b1=b.reshape(1, 10)\n",
    "print(\"двумерный массив \\n\", b1)"
   ],
   "metadata": {
    "collapsed": false,
    "pycharm": {
     "name": "#%%\n"
    }
   }
  },
  {
   "cell_type": "code",
   "execution_count": null,
   "outputs": [],
   "source": [
    "a = np.zeros((2, 2))\n",
    "b = np.zeros((3, 2))+1\n",
    "v = np.vstack((a, b))\n",
    "print(\"размер массива v: {}\".format(v.size))\n",
    "print(v)"
   ],
   "metadata": {
    "collapsed": false,
    "pycharm": {
     "name": "#%%\n"
    }
   }
  },
  {
   "cell_type": "code",
   "execution_count": 20,
   "outputs": [
    {
     "name": "stdout",
     "output_type": "stream",
     "text": [
      "размер массива B 16\n",
      "[[  5  14  23  32]\n",
      " [ 14  50  86 122]\n",
      " [ 23  86 149 212]\n",
      " [ 32 122 212 302]]\n",
      "[[ 0  1  2]\n",
      " [ 3  4  5]\n",
      " [ 6  7  8]\n",
      " [ 9 10 11]]\n",
      "[ 7  8 10  9 14 13 15 10  5 10  8  6  6  1 14  5]\n",
      "[ 7  8 10  9 14 13 15 10  5 10  8  6  6  1 14  5]\n",
      "[[ 75  94 123 122]\n",
      " [154 180 236 222]\n",
      " [ 73 186 229 272]\n",
      " [ 92 132 352 352]]\n",
      "-7662799.999999996 4\n",
      "[[ 0.24512711 -0.0991648  -0.02658558 -0.00187399]\n",
      " [-0.19080754  0.08524821  0.02331785 -0.00565068]\n",
      " [-0.36185728  0.16212873  0.021115    0.00684867]\n",
      " [ 0.3693428  -0.16817873 -0.02291069 -0.00139897]]\n",
      "[[1 0 0 0]\n",
      " [0 1 1 0]\n",
      " [0 1 1 1]\n",
      " [1 0 0 0]]\n",
      "[[  5   8  10   9]\n",
      " [ 14  50  86  10]\n",
      " [  5  86 149 212]\n",
      " [ 32   1  14   5]]\n"
     ]
    }
   ],
   "source": [
    "a=np.arange(0, 12)\n",
    "A=a.reshape(4,3)\n",
    "At=A.T\n",
    "B = np.dot(A, At)\n",
    "print(\"размер массива B {}\".format(B.size))\n",
    "print(B) # обратной матрицы не получится\n",
    "print(A) #вырожденная матрица\n",
    "\n",
    "#np.random.seed(42)\n",
    "c = np.random.randint(0, 16, 16)\n",
    "print(c)\n",
    "C = c.reshape(4,4)\n",
    "print(c)\n",
    "d = B + C*10\n",
    "print(d)\n",
    "det = np.linalg.det(d)\n",
    "rank = np.linalg.matrix_rank(d)\n",
    "d_inv = np.linalg.inv(d)\n",
    "print(det, rank)\n",
    "print(d_inv)\n",
    "d1_inv = np.where(d_inv<0, 0, 1)\n",
    "print(d1_inv)\n",
    "E=np.where(d1_inv==0, C, B)\n",
    "print(E)"
   ],
   "metadata": {
    "collapsed": false,
    "pycharm": {
     "name": "#%%\n"
    }
   }
  }
 ],
 "metadata": {
  "kernelspec": {
   "display_name": "Python 3",
   "language": "python",
   "name": "python3"
  },
  "language_info": {
   "codemirror_mode": {
    "name": "ipython",
    "version": 2
   },
   "file_extension": ".py",
   "mimetype": "text/x-python",
   "name": "python",
   "nbconvert_exporter": "python",
   "pygments_lexer": "ipython2",
   "version": "2.7.6"
  }
 },
 "nbformat": 4,
 "nbformat_minor": 0
}