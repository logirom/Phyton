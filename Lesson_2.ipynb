{
 "cells": [
  {
   "cell_type": "code",
   "execution_count": 13,
   "metadata": {
    "collapsed": true,
    "pycharm": {
     "name": "#%%\n"
    }
   },
   "outputs": [
    {
     "name": "stdout",
     "output_type": "stream",
     "text": [
      "[[8, 9], [8, 7]] [[2, 10], [9, 7]] [[97, 143], [79, 129]]\n"
     ]
    }
   ],
   "source": [
    "#Написать на Python функцию для перемножения двух\n",
    "#произвольных матриц, не используя NumPy.\n",
    "import numpy as np\n",
    "import random\n",
    "n = int(input(\"ввести ранг матрицы n =\"))\n",
    "\n",
    "def getMatrix(rang) :\n",
    "    resmat = []\n",
    "    for _ in range (rang):\n",
    "        row = []\n",
    "        for _ in range (rang):\n",
    "            v = random.randrange(1, 11, 1)\n",
    "            row.append(v)\n",
    "        resmat.append(row)\n",
    "    return resmat\n",
    " #перевод каретки после каждой строки\n",
    "\n",
    "def multMatrix (a, b) :\n",
    "    resMatrix = []\n",
    "    for i in range (len(a)):\n",
    "        row=[]\n",
    "        for j in range (len(a)):\n",
    "            val = 1-1\n",
    "            for k in range(len(a)):\n",
    "                val+= a[i][k] * b[k][j]\n",
    "            row.append(val)\n",
    "        resMatrix.append(row)\n",
    "    return resMatrix\n",
    "a1 = getMatrix(n)\n",
    "a2 = getMatrix(n)\n",
    "result = multMatrix(a1, a2)\n",
    "print(a1, a2, result)\n",
    "\n",
    "\n"
   ]
  }
 ],
 "metadata": {
  "kernelspec": {
   "display_name": "Python 3",
   "language": "python",
   "name": "python3"
  },
  "language_info": {
   "codemirror_mode": {
    "name": "ipython",
    "version": 2
   },
   "file_extension": ".py",
   "mimetype": "text/x-python",
   "name": "python",
   "nbconvert_exporter": "python",
   "pygments_lexer": "ipython2",
   "version": "2.7.6"
  }
 },
 "nbformat": 4,
 "nbformat_minor": 0
}