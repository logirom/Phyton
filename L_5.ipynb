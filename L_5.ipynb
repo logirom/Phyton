{
 "cells": [
  {
   "cell_type": "code",
   "execution_count": 1,
   "metadata": {
    "collapsed": true
   },
   "outputs": [
    {
     "name": "stdout",
     "output_type": "stream",
     "text": [
      "81.96 78.04\n"
     ]
    }
   ],
   "source": [
    "#Известно, что генеральная совокупность распределена нормально\n",
    "# со средним квадратическим отклонением, равным 16.\n",
    "#Найти доверительный интервал для оценки математического ожидания\n",
    "# с надежностью 0.95, если выборочная средняя M = 80,\n",
    "# а объем выборки n = 256.\n",
    "import math\n",
    "std = 16\n",
    "m = 80\n",
    "n = 256\n",
    "a = 0.05\n",
    "a1 = m + 1.96*(16/(n**0.5))\n",
    "b1 = m - 1.96*(16/(n**0.5))\n",
    "print(a1, b1)"
   ]
  },
  {
   "cell_type": "code",
   "execution_count": 10,
   "outputs": [
    {
     "name": "stdout",
     "output_type": "stream",
     "text": [
      "6.590000000000001 6.912461744087575 6.267538255912426\n"
     ]
    }
   ],
   "source": [
    "#В результате 10 независимых измерений некоторой величины X,\n",
    "# выполненных с одинаковой точностью, получены опытные\n",
    "# данные: 6.9, 6.1, 6.2, 6.8, 7.5, 6.3, 6.4, 6.9, 6.7, 6.1\n",
    "# Предполагая, что результаты измерений подчинены нормальному\n",
    "# закону распределения вероятностей, оценить истинное значение\n",
    "# величины X при помощи доверительного интервала, покрывающего\n",
    "# это значение с доверительной вероятностью 0,95.\n",
    "import numpy as np\n",
    "\n",
    "x= np.array([6.9, 6.1, 6.2, 6.8, 7.5, 6.3, 6.4, 6.9, 6.7, 6.1])\n",
    "n = 10\n",
    "t = 2.2262\n",
    "mu = np.mean(x)\n",
    "s = (np.var(x, ddof=1))**0.5\n",
    "a1 = mu + (2.262*s)/(n**0.5)\n",
    "b1 = mu - (2.262*s)/(n**0.5)\n",
    "print(mu, a1, b1)\n"
   ],
   "metadata": {
    "collapsed": false,
    "pycharm": {
     "name": "#%%\n"
    }
   }
  },
  {
   "cell_type": "code",
   "execution_count": 4,
   "outputs": [
    {
     "name": "stdout",
     "output_type": "stream",
     "text": [
      "2.5\n"
     ]
    }
   ],
   "source": [
    "#Утверждается, что шарики для подшипников, изготовленные\n",
    "# автоматическим станком, имеют средний диаметр 17 мм.\n",
    "# Используя односторонний критерий с α=0,05, проверить эту\n",
    "# гипотезу, если в выборке из n=100 шариков средний диаметр\n",
    "#оказался равным 17.5 мм, а дисперсия известна и равна 4 кв.мм.\n",
    "\n",
    "mu_0 = 17\n",
    "mu = 17,5\n",
    "a = 5\n",
    "n =100\n",
    "d = 4\n",
    "z = 1, 65\n",
    "z = (17.5-17)/(2/10)\n",
    "print(z) # верна альтернативная гипотеза"
   ],
   "metadata": {
    "collapsed": false,
    "pycharm": {
     "name": "#%%\n"
    }
   }
  },
  {
   "cell_type": "code",
   "execution_count": 11,
   "outputs": [
    {
     "name": "stdout",
     "output_type": "stream",
     "text": [
      "198.5 4.453463071962462 -1.0651074037450896\n"
     ]
    }
   ],
   "source": [
    "import numpy as np\n",
    "x=np.array([202, 203, 199, 197, 195, 201, 200, 204, 194, 190])\n",
    "s = (np.var(x, ddof=1))**0.5\n",
    "mu = np.mean(x)\n",
    "t = ((mu-200)*(10**0.5))/s\n",
    "print(mu, s, t)\n",
    "\n",
    "\n",
    "\n"
   ],
   "metadata": {
    "collapsed": false,
    "pycharm": {
     "name": "#%%\n"
    }
   }
  }
 ],
 "metadata": {
  "kernelspec": {
   "display_name": "Python 3",
   "language": "python",
   "name": "python3"
  },
  "language_info": {
   "codemirror_mode": {
    "name": "ipython",
    "version": 2
   },
   "file_extension": ".py",
   "mimetype": "text/x-python",
   "name": "python",
   "nbconvert_exporter": "python",
   "pygments_lexer": "ipython2",
   "version": "2.7.6"
  }
 },
 "nbformat": 4,
 "nbformat_minor": 0
}